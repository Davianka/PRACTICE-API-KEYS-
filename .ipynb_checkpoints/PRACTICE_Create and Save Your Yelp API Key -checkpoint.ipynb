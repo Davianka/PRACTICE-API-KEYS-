{
 "cells": [
  {
   "cell_type": "code",
   "execution_count": 1,
   "id": "4d0bff4d",
   "metadata": {},
   "outputs": [],
   "source": [
    "import numpy as np\n",
    "import pandas as pd\n",
    "import matplotlib.pyplot as plt\n",
    "import seaborn as sns\n",
    "import os, json, math, time\n",
    "from yelpapi import YelpAPI\n",
    "from tqdm.notebook import tqdm_notebook"
   ]
  },
  {
   "cell_type": "markdown",
   "id": "377155b4",
   "metadata": {},
   "source": [
    "Follow the instructions from the previous 2 lessons to get your Yelp Fusion API credentials. \n",
    "-Save them locally in a yelp-api.json file located in a \".secret/\" folder inside your user folder. \n",
    "-Create a new repository with GitHub desktop. \n",
    "-Load in your API credentials using the JSON module and display what keys are in the dictionary.\n",
    "  -DO NOT DISPLAY THE VALUES OF THIS DICTIONARY!!!\n",
    "-Save, commit, and push your work to GitHub.\n"
   ]
  },
  {
   "cell_type": "code",
   "execution_count": 2,
   "id": "80fe8bde",
   "metadata": {},
   "outputs": [
    {
     "data": {
      "text/plain": [
       "dict_keys(['client-id', 'api-key'])"
      ]
     },
     "execution_count": 2,
     "metadata": {},
     "output_type": "execute_result"
    }
   ],
   "source": [
    "import json\n",
    "with open('/Users/daviankalopez/.secret/yelp_api.json') as f:\n",
    "          login = json.load(f)\n",
    "login.keys()\n",
    "\n"
   ]
  },
  {
   "cell_type": "code",
   "execution_count": null,
   "id": "b9bc890d",
   "metadata": {},
   "outputs": [],
   "source": []
  }
 ],
 "metadata": {
  "kernelspec": {
   "display_name": "Python (dojo-env)",
   "language": "python",
   "name": "dojo-env"
  },
  "language_info": {
   "codemirror_mode": {
    "name": "ipython",
    "version": 3
   },
   "file_extension": ".py",
   "mimetype": "text/x-python",
   "name": "python",
   "nbconvert_exporter": "python",
   "pygments_lexer": "ipython3",
   "version": "3.8.13"
  },
  "toc": {
   "base_numbering": 1,
   "nav_menu": {},
   "number_sections": false,
   "sideBar": true,
   "skip_h1_title": false,
   "title_cell": "Table of Contents",
   "title_sidebar": "Contents",
   "toc_cell": false,
   "toc_position": {},
   "toc_section_display": true,
   "toc_window_display": false
  }
 },
 "nbformat": 4,
 "nbformat_minor": 5
}
